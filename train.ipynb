{
 "cells": [
  {
   "cell_type": "code",
   "execution_count": null,
   "metadata": {},
   "outputs": [],
   "source": [
    "from fastai.vision import *\n",
    "from fastai.callbacks import *\n",
    "from fastai.metrics import error_rate\n",
    "import torch.nn as nn\n",
    "import pandas as pd\n",
    "import shutil\n",
    "from geffnet import tf_mobilenetv3_large_minimal_100\n",
    "from geffnet import tf_mobilenetv3_small_minimal_100 \n",
    "from geffnet import efficientnet_b0\n",
    "from geffnet import efficientnet_b1\n",
    "from geffnet import efficientnet_b2\n",
    "from geffnet import efficientnet_b3\n",
    "from geffnet import tf_mobilenetv3_small_100\n",
    "from geffnet import tf_mobilenetv3_small_075\n",
    "from geffnet import mobilenetv3_large_100\n",
    "from geffnet import mobilenetv2_120d\n",
    "from geffnet import mobilenetv2_110d\n",
    "import os\n",
    "torch.cuda.set_device(0)"
   ]
  },
  {
   "cell_type": "code",
   "execution_count": null,
   "metadata": {},
   "outputs": [],
   "source": [
    "### Training ###\n",
    "\n",
    "model = mobilenetv2_120d(pretrained=True, num_classes = 20)\n",
    "for param in model.parameters():\n",
    "    param.requires_grad = False\n",
    "model.classifier=nn.Sequential(\n",
    "        nn.Linear(1280, out_features=20, bias=False),\n",
    "        nn.LogSoftmax())\n",
    "UCSD_path = './'\n",
    "tfms = get_transforms(flip_vert=True, max_lighting=0.1, max_zoom=1.1, max_warp=0.)\n",
    "\n",
    "data_UCSD = ImageDataBunch.from_folder(path=UCSD_path, train='train', valid='val', ds_tfms=tfms, \n",
    "            test=None, valid_pct=None, no_check=True, size=(224,224), num_workers=6, bs=280)\n",
    "#opt = optim.Adam\n",
    "data_UCSD = data_UCSD.normalize(imagenet_stats)\n",
    "learn = Learner(data_UCSD, model, metrics=[error_rate, accuracy, top_k_accuracy], callback_fns=[CSVLogger])\n",
    "epochs=25\n",
    "\n",
    "learn.fit_one_cycle(epochs, max_lr=1e-3, callbacks=[SaveModelCallback(learn, \n",
    "                            monitor='error_rate', mode='min', name=\"model\")])\n",
    "\n",
    "#if you want to use fast ai to save model and do mobile, that may occur some problem.\n",
    "torch.save(model.state_dict(), './models/model.pth')"
   ]
  },
  {
   "cell_type": "code",
   "execution_count": null,
   "metadata": {},
   "outputs": [],
   "source": [
    "### Evaluate ###\n",
    "\n",
    "img = open_image('./val/frog/1379123151-322948949.jpg')\n",
    "y=learn.predict(img)\n",
    "a = torch.argmax(y[2]).numpy()\n",
    "print(learn.data.classes[a])\n",
    "learn.validate(data_UCSD.valid_dl,metrics=[error_rate, accuracy, top_k_accuracy])"
   ]
  }
 ],
 "metadata": {
  "kernelspec": {
   "display_name": "Python 3",
   "language": "python",
   "name": "python3"
  },
  "language_info": {
   "codemirror_mode": {
    "name": "ipython",
    "version": 3
   },
   "file_extension": ".py",
   "mimetype": "text/x-python",
   "name": "python",
   "nbconvert_exporter": "python",
   "pygments_lexer": "ipython3",
   "version": "3.7.6"
  }
 },
 "nbformat": 4,
 "nbformat_minor": 4
}
