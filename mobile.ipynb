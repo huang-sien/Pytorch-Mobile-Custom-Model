{
 "cells": [
  {
   "cell_type": "code",
   "execution_count": null,
   "metadata": {},
   "outputs": [],
   "source": [
    "from fastai.vision import *\n",
    "from fastai.callbacks import *\n",
    "from fastai.metrics import error_rate\n",
    "import torch.nn as nn\n",
    "#from mobilenet import mobilenet\n",
    "from torchvision.models import mnasnet1_0 as mnasnet\n",
    "import pandas as pd\n",
    "import shutil\n",
    "#from mobilenetv3.mobilenetv3 import mobilenetv3_large, mobilenetv3_small\n",
    "from geffnet import tf_mobilenetv3_large_minimal_100\n",
    "from geffnet import tf_mobilenetv3_small_minimal_100 \n",
    "from geffnet import efficientnet_b0\n",
    "from geffnet import efficientnet_b1\n",
    "from geffnet import efficientnet_b2\n",
    "from geffnet import efficientnet_b3\n",
    "from geffnet import tf_mobilenetv3_small_100\n",
    "from geffnet import tf_mobilenetv3_small_075\n",
    "from geffnet import mobilenetv3_large_100\n",
    "from geffnet import mobilenetv2_120d\n",
    "import os\n",
    "from torchvision.models.mobilenet import MobileNetV2"
   ]
  },
  {
   "cell_type": "code",
   "execution_count": null,
   "metadata": {},
   "outputs": [],
   "source": [
    "from geffnet import mobilenetv2_110d\n",
    "model = mobilenetv2_110d(pretrained=True, num_classes = 19)\n",
    "for param in model.parameters():\n",
    "    param.requires_grad = False\n",
    "model.classifier=nn.Sequential(\n",
    "        nn.Linear(1280, out_features=19, bias=False),\n",
    "        nn.LogSoftmax())"
   ]
  },
  {
   "cell_type": "code",
   "execution_count": null,
   "metadata": {},
   "outputs": [],
   "source": [
    "state_dict=torch.load('./models/model.pth')\n",
    "\n",
    "# load params\n",
    "model.load_state_dict(state_dict)\n",
    "model=model.eval()\n",
    "model=model.cpu()\n",
    "example = torch.rand(1, 3, 224, 224).cpu()\n",
    "\n",
    "#example.cuda()\n",
    "traced_script_module = torch.jit.trace(model, example)\n",
    "traced_script_module.save(\"model.pt\")"
   ]
  }
 ],
 "metadata": {
  "kernelspec": {
   "display_name": "Python 3",
   "language": "python",
   "name": "python3"
  },
  "language_info": {
   "codemirror_mode": {
    "name": "ipython",
    "version": 3
   },
   "file_extension": ".py",
   "mimetype": "text/x-python",
   "name": "python",
   "nbconvert_exporter": "python",
   "pygments_lexer": "ipython3",
   "version": "3.7.6"
  }
 },
 "nbformat": 4,
 "nbformat_minor": 4
}
